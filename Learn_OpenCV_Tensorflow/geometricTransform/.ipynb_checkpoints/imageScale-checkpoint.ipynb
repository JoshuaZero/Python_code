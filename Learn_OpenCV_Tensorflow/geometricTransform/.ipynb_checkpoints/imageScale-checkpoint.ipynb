{
 "cells": [
  {
   "cell_type": "code",
   "execution_count": null,
   "metadata": {},
   "outputs": [
    {
     "name": "stdout",
     "output_type": "stream",
     "text": [
      "(1280, 1600, 3)\n"
     ]
    }
   ],
   "source": [
    "#1 load image 2 get image info 3 usea api resize 4 check\n",
    "import cv2\n",
    "img = cv2.imread('dbimg.jpg',1)\n",
    "imgInfo = img.shape\n",
    "print(imgInfo)\n",
    "height = imgInfo[0]\n",
    "width = imgInfo[1]\n",
    "mode = imgInfo[2]   #describe how type the color of image\n",
    "#1 放大 缩小 2 等比例 非等 \n",
    "dstHeight = int(height*0.5)\n",
    "dstwidth = int(width*0.5)\n",
    "#最近邻域插值、双线性插值(默认)、像素关系重采样、立方插值\n",
    "dst = cv2.resize(img,(dstwidth,dstHeight))\n",
    "cv2.imshow('image',dst)\n",
    "cv2.waitKey(0)"
   ]
  },
  {
   "cell_type": "code",
   "execution_count": null,
   "metadata": {},
   "outputs": [],
   "source": [
    "#最近邻域插值、双线性插值(默认)\n",
    "#最近邻域插值\n",
    "#src 10*20  dst 5*10\n",
    "#dst<-src\n",
    "#(1,2)<-(2,4)\n",
    "#dst x 1-> src x 2 newX\n",
    "#newX = x*(src 行/目标 行) newX = 1*(10/5) = 2\n",
    "#newY = y*(src 列/目标 列) newY = 2*(20/10) = 4\n",
    "#12.3  取12\n",
    "\n",
    "#双线性插值\n",
    "#A1 = 20% 上 + 80% 下 \n",
    "#B1 = 30% 上 + 70% 下 \n",
    "#方法1：最终点 = A1 30% + A2 70% \n",
    "#方法2：最终点 = B1 20% + B2 80% "
   ]
  },
  {
   "cell_type": "code",
   "execution_count": 1,
   "metadata": {},
   "outputs": [
    {
     "ename": "NameError",
     "evalue": "name 'dstHeitht' is not defined",
     "output_type": "error",
     "traceback": [
      "\u001b[0;31m---------------------------------------------------------------------------\u001b[0m",
      "\u001b[0;31mNameError\u001b[0m                                 Traceback (most recent call last)",
      "\u001b[0;32m<ipython-input-1-e1a52699fe4f>\u001b[0m in \u001b[0;36m<module>\u001b[0;34m\u001b[0m\n\u001b[1;32m      8\u001b[0m \u001b[0mdstHeight\u001b[0m \u001b[0;34m=\u001b[0m \u001b[0mint\u001b[0m\u001b[0;34m(\u001b[0m\u001b[0mheight\u001b[0m\u001b[0;34m/\u001b[0m\u001b[0;36m2\u001b[0m\u001b[0;34m)\u001b[0m\u001b[0;34m\u001b[0m\u001b[0;34m\u001b[0m\u001b[0m\n\u001b[1;32m      9\u001b[0m \u001b[0mdstWidth\u001b[0m \u001b[0;34m=\u001b[0m \u001b[0mint\u001b[0m\u001b[0;34m(\u001b[0m\u001b[0mwidth\u001b[0m\u001b[0;34m/\u001b[0m\u001b[0;36m2\u001b[0m\u001b[0;34m)\u001b[0m\u001b[0;34m\u001b[0m\u001b[0;34m\u001b[0m\u001b[0m\n\u001b[0;32m---> 10\u001b[0;31m \u001b[0mdstImage\u001b[0m \u001b[0;34m=\u001b[0m \u001b[0mnp\u001b[0m\u001b[0;34m.\u001b[0m\u001b[0mzeros\u001b[0m\u001b[0;34m(\u001b[0m\u001b[0;34m(\u001b[0m\u001b[0mdstHeitht\u001b[0m\u001b[0;34m,\u001b[0m\u001b[0mdstWidth\u001b[0m\u001b[0;34m,\u001b[0m\u001b[0;36m3\u001b[0m\u001b[0;34m)\u001b[0m\u001b[0;34m,\u001b[0m \u001b[0mnp\u001b[0m\u001b[0;34m.\u001b[0m\u001b[0muint8\u001b[0m\u001b[0;34m)\u001b[0m\u001b[0;31m#0-255\u001b[0m\u001b[0;34m\u001b[0m\u001b[0;34m\u001b[0m\u001b[0m\n\u001b[0m\u001b[1;32m     11\u001b[0m \u001b[0;32mfor\u001b[0m \u001b[0mi\u001b[0m \u001b[0;32min\u001b[0m \u001b[0mrange\u001b[0m\u001b[0;34m(\u001b[0m\u001b[0;36m0\u001b[0m\u001b[0;34m,\u001b[0m\u001b[0mdstHeight\u001b[0m\u001b[0;34m)\u001b[0m\u001b[0;34m:\u001b[0m \u001b[0;31m#行\u001b[0m\u001b[0;34m\u001b[0m\u001b[0;34m\u001b[0m\u001b[0m\n\u001b[1;32m     12\u001b[0m     \u001b[0;32mfor\u001b[0m \u001b[0mj\u001b[0m \u001b[0;32min\u001b[0m \u001b[0mrange\u001b[0m\u001b[0;34m(\u001b[0m\u001b[0;36m0\u001b[0m\u001b[0;34m,\u001b[0m\u001b[0mdstWidth\u001b[0m\u001b[0;34m)\u001b[0m\u001b[0;34m:\u001b[0m \u001b[0;31m#列\u001b[0m\u001b[0;34m\u001b[0m\u001b[0;34m\u001b[0m\u001b[0m\n",
      "\u001b[0;31mNameError\u001b[0m: name 'dstHeitht' is not defined"
     ]
    }
   ],
   "source": [
    "#实现步骤1、image info 2 blank model 3 recale xy\n",
    "import cv2\n",
    "import numpy as np\n",
    "img = cv2.imread('dbimg.jpg',1)\n",
    "imageInfo = img.shape\n",
    "height = imageInfo[0]\n",
    "width = imageInfo[1]\n",
    "dstHeight = int(height/2)\n",
    "dstWidth = int(width/2)\n",
    "dstImage = np.zeros((dstHeight,dstWidth,3), np.uint8)#0-255\n",
    "for i in range(0,dstHeight): #行\n",
    "    for j in range(0,dstWidth): #列\n",
    "        iNew = int(i*(height*1.0)/dstHeight)\n",
    "        jNew = int(j*(width*1.0)/dstWidth)\n",
    "        dstImage[i,j] = img[iNew,jNew]\n",
    "cv2.imshow('dst', dstImage)\n",
    "cv2.waitKey(0)\n",
    "#1 openc API 调用 2 算法原理(为什么这样做，实现思路) 3"
   ]
  },
  {
   "cell_type": "code",
   "execution_count": null,
   "metadata": {},
   "outputs": [],
   "source": []
  }
 ],
 "metadata": {
  "kernelspec": {
   "display_name": "Python 3",
   "language": "python",
   "name": "python3"
  },
  "language_info": {
   "codemirror_mode": {
    "name": "ipython",
    "version": 3
   },
   "file_extension": ".py",
   "mimetype": "text/x-python",
   "name": "python",
   "nbconvert_exporter": "python",
   "pygments_lexer": "ipython3",
   "version": "3.6.8"
  }
 },
 "nbformat": 4,
 "nbformat_minor": 2
}
