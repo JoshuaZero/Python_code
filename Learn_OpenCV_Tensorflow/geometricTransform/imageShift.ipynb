{
 "cells": [
  {
   "cell_type": "code",
   "execution_count": null,
   "metadata": {},
   "outputs": [],
   "source": [
    "#1、 API实现  2、算法原理  3、源代码实现\n",
    "import cv2\n",
    "import numpy as np\n",
    "img = cv2.imread('dbimg.jpg',1)\n",
    "cv2.imshow('src',img)\n",
    "imgInfo = img.shape\n",
    "height = imgInfo[0]\n",
    "width = imgInfo[1]\n",
    "###\n",
    "\n",
    "matShift = np.float32([[1,0,100],[0,1,200]])  #2*3\n",
    "dst = cv2.warpAffine(img, matShift,(height,width))  #1 data  2 mat 3 info\n",
    "#完成移位 矩阵运算\n",
    "cv2.imshow('dst',dst)\n",
    "cv2.waitKey(0)\n"
   ]
  },
  {
   "cell_type": "code",
   "execution_count": null,
   "metadata": {},
   "outputs": [],
   "source": [
    "#[[1,0,100],[0,1,200]]   拆成2×2 2×1\n",
    "#[[1,0],[0,1]] 2*2  A\n",
    "#[[100],[200]]  2*1  B\n",
    "#xy C\n",
    "#A*C+B =[[1*x+0*y],[0*x+1*y]] + [[100],[200]]\n",
    "#= [[x+100],[y+200]]\n",
    "\n",
    "#(10,20)->(110,120)"
   ]
  },
  {
   "cell_type": "code",
   "execution_count": null,
   "metadata": {},
   "outputs": [],
   "source": [
    "import cv2\n",
    "import numpy as np\n",
    "img = cv2.imread('dbimg.jpg',1)\n",
    "cv2.imshow('src',img)\n",
    "imgInfo = img.shape\n",
    "dst = np.zeros(img.shape, np.uint8)\n",
    "height = imgInfo[0]\n",
    "width = imgInfo[1]\n",
    "for i in range(0,height):\n",
    "    for j in range(0,width-100):\n",
    "        dst[i,j+100] = img[i,j]\n",
    "cv2.imshow('dst',dst)\n",
    "cv2.waitKey(0)"
   ]
  },
  {
   "cell_type": "code",
   "execution_count": null,
   "metadata": {},
   "outputs": [],
   "source": []
  }
 ],
 "metadata": {
  "kernelspec": {
   "display_name": "Python 3",
   "language": "python",
   "name": "python3"
  },
  "language_info": {
   "codemirror_mode": {
    "name": "ipython",
    "version": 3
   },
   "file_extension": ".py",
   "mimetype": "text/x-python",
   "name": "python",
   "nbconvert_exporter": "python",
   "pygments_lexer": "ipython3",
   "version": "3.6.8"
  }
 },
 "nbformat": 4,
 "nbformat_minor": 2
}
