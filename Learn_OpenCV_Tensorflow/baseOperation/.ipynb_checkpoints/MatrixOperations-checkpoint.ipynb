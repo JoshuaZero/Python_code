{
 "cells": [
  {
   "cell_type": "code",
   "execution_count": 3,
   "metadata": {},
   "outputs": [
    {
     "name": "stdout",
     "output_type": "stream",
     "text": [
      "8.0\n",
      "end!\n"
     ]
    }
   ],
   "source": [
    "#矩阵运算\n",
    "#实现 placehold\n",
    "import tensorflow as tf\n",
    "conData1 = tf.placeholder(tf.float32)\n",
    "conData2 = tf.placeholder(tf.float32)\n",
    "dataAdd = tf.add(conData1, conData2)\n",
    "with tf.Session() as sess:\n",
    "    print(sess.run(dataAdd, feed_dict = {conData1:6,conData2:2}))\n",
    "    #1 运算之后的张量  2 data数据  （feed_dict = {1:6, 2:2}）\n",
    "print('end!')"
   ]
  },
  {
   "cell_type": "code",
   "execution_count": 9,
   "metadata": {},
   "outputs": [
    {
     "name": "stdout",
     "output_type": "stream",
     "text": [
      "(3, 2)\n",
      "[[1 2]\n",
      " [3 4]\n",
      " [5 6]]\n",
      "[1 2]\n",
      "[1 3 5]\n"
     ]
    }
   ],
   "source": [
    "#类比 矩阵为  数组  M行N列[]\n",
    "#内部 []  [里面 列数据] []中括号整体  表示行数\n",
    "#[[6,6]]  1行两列\n",
    "#[[2],[2]]  2行1列\n",
    "import tensorflow as tf\n",
    "data1 = tf.constant([[6,6]])\n",
    "data2 = tf.constant([[2],[2]])\n",
    "data3 = tf.constant([[3,3]])\n",
    "data4 = tf.constant([[1,2],[3,4],[5,6]])\n",
    "print(data4.shape)   #打印矩阵的维度\n",
    "with tf.Session() as sess:\n",
    "    print(sess.run(data4))    #打印所有\n",
    "    print(sess.run(data4[0]))   #打印某一行\n",
    "    print(sess.run(data4[:,0]))  #打印某一列\n",
    "    print(sess.run(data4([0,0])))  #打印第1行第1列"
   ]
  },
  {
   "cell_type": "code",
   "execution_count": null,
   "metadata": {},
   "outputs": [],
   "source": []
  }
 ],
 "metadata": {
  "kernelspec": {
   "display_name": "Python 3",
   "language": "python",
   "name": "python3"
  },
  "language_info": {
   "codemirror_mode": {
    "name": "ipython",
    "version": 3
   },
   "file_extension": ".py",
   "mimetype": "text/x-python",
   "name": "python",
   "nbconvert_exporter": "python",
   "pygments_lexer": "ipython3",
   "version": "3.6.8"
  }
 },
 "nbformat": 4,
 "nbformat_minor": 2
}
