{
 "cells": [
  {
   "cell_type": "code",
   "execution_count": 1,
   "metadata": {},
   "outputs": [
    {
     "name": "stdout",
     "output_type": "stream",
     "text": [
      "8\n",
      "4\n",
      "12\n",
      "3.0\n",
      "end!\n"
     ]
    }
   ],
   "source": [
    "import tensorflow as tf\n",
    "conData1 = tf.constant(6)\n",
    "conData2 = tf.constant(2)\n",
    "dataAdd = tf.add(conData1, conData2)\n",
    "dataMul = tf.multiply(conData1, conData2)\n",
    "dataSub = tf.subtract(conData1, conData2)\n",
    "dataDiv = tf.divide(conData1, conData2)\n",
    "\n",
    "with tf.Session() as sess:\n",
    "    print(sess.run(dataAdd))\n",
    "    print(sess.run(dataSub))\n",
    "    print(sess.run(dataMul))\n",
    "    print(sess.run(dataDiv))\n",
    "print('end!')    "
   ]
  },
  {
   "cell_type": "code",
   "execution_count": 4,
   "metadata": {},
   "outputs": [
    {
     "name": "stdout",
     "output_type": "stream",
     "text": [
      "None\n",
      "8\n",
      "4\n",
      "12\n",
      "3.0\n",
      "sess.run(dataCopy) 8\n",
      "dataCopy.eval() 14\n",
      "get_default_session() 20\n",
      "end!\n"
     ]
    }
   ],
   "source": [
    "import tensorflow as tf\n",
    "conData1 = tf.constant(6)\n",
    "conData2 = tf.Variable(2)\n",
    "dataAdd = tf.add(conData1, conData2)\n",
    "dataCopy = tf.assign(conData2, dataAdd)\n",
    "dataMul = tf.multiply(conData1, conData2)\n",
    "dataSub = tf.subtract(conData1, conData2)\n",
    "dataDiv = tf.divide(conData1, conData2)\n",
    "\n",
    "init = tf.global_variables_initializer()\n",
    "with tf.Session() as sess:\n",
    "    print(sess.run(init))\n",
    "    print(sess.run(dataAdd))\n",
    "    print(sess.run(dataSub))\n",
    "    print(sess.run(dataMul))\n",
    "    print(sess.run(dataDiv))\n",
    "    #log\n",
    "    #print('sess.run(dataCopy)', sess.run(dataCopy))   #8->conData2\n",
    "    print('sess.run(dataCopy)', dataCopy.eval())\n",
    "    print('dataCopy.eval()', dataCopy.eval())    #8+6 ->14->conData2\n",
    "    print('get_default_session()',tf.get_default_session().run(dataCopy))\n",
    "print('end!')  "
   ]
  },
  {
   "cell_type": "code",
   "execution_count": null,
   "metadata": {},
   "outputs": [],
   "source": []
  }
 ],
 "metadata": {
  "kernelspec": {
   "display_name": "Python 3",
   "language": "python",
   "name": "python3"
  },
  "language_info": {
   "codemirror_mode": {
    "name": "ipython",
    "version": 3
   },
   "file_extension": ".py",
   "mimetype": "text/x-python",
   "name": "python",
   "nbconvert_exporter": "python",
   "pygments_lexer": "ipython3",
   "version": "3.6.8"
  }
 },
 "nbformat": 4,
 "nbformat_minor": 2
}
