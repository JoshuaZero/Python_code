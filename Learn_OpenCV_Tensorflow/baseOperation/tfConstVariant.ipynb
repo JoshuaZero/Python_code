{
 "cells": [
  {
   "cell_type": "code",
   "execution_count": 3,
   "metadata": {},
   "outputs": [
    {
     "name": "stdout",
     "output_type": "stream",
     "text": [
      "Tensor(\"Const_2:0\", shape=(), dtype=int32)\n",
      "<tf.Variable 'var_2:0' shape=() dtype=int32_ref>\n",
      "10\n"
     ]
    }
   ],
   "source": [
    "#opencv tensorflow\n",
    "#以类比的方式来学习，将Tensorflow当作一门开发语言来学习\n",
    "#学好一门语言，需要掌握其基础语法、API调用、原理性质的理解和掌握、\n",
    "#基础数据类型、运算符、流程语句、\n",
    "#对于面向对象的语言：还有字典、数组、元组\n",
    "import tensorflow as tf\n",
    "#condata = tf.constant(2.5)\n",
    "condata = tf.constant(2, dtype=tf.int32)\n",
    "vardata = tf.Variable(10,name='var')\n",
    "print(condata)\n",
    "print(vardata)\n",
    "\n",
    "'''\n",
    "sess = tf.Session()\n",
    "print(sess.run(condata))\n",
    "init = tf.global_variables_initializer()\n",
    "sess.run(init)\n",
    "print(sess.run(vardata))\n",
    "sess.close()\n",
    "'''\n",
    "#tensorflow 本质   = tensor + graphs\n",
    "#tensor 数据\n",
    "#op  操作\n",
    "#graphs 计算和操作的过程，数据操作\n",
    "#session   所有的计算图都要放到Session会话中执行，session是执行的核心，运算的交互环境 \n",
    "\n",
    "init = tf.global_variables_initializer()\n",
    "sess = tf.Session()\n",
    "with sess:\n",
    "    sess.run(init)\n",
    "    print(sess.run(vardata)) "
   ]
  },
  {
   "cell_type": "code",
   "execution_count": null,
   "metadata": {},
   "outputs": [],
   "source": []
  }
 ],
 "metadata": {
  "kernelspec": {
   "display_name": "Python 3",
   "language": "python",
   "name": "python3"
  },
  "language_info": {
   "codemirror_mode": {
    "name": "ipython",
    "version": 3
   },
   "file_extension": ".py",
   "mimetype": "text/x-python",
   "name": "python",
   "nbconvert_exporter": "python",
   "pygments_lexer": "ipython3",
   "version": "3.6.8"
  }
 },
 "nbformat": 4,
 "nbformat_minor": 2
}
