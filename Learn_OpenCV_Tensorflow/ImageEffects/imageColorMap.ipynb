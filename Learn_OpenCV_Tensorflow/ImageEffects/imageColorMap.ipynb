{
 "cells": [
  {
   "cell_type": "code",
   "execution_count": null,
   "metadata": {},
   "outputs": [],
   "source": [
    "#color map\n",
    "import cv2\n",
    "import numpy as np\n",
    "img = cv2.imread('thimg.jpg',1)\n",
    "cv2.imshow('src',img)\n",
    "imgInfo = img.shape\n",
    "height = imgInfo[0]\n",
    "width = imgInfo[1]\n",
    "#rgb -> RGB new \n",
    "#b = b*1.5\n",
    "#g = g*1.3\n",
    "dst = np.zeros((height,width,3),np.uint8)\n",
    "for i in range(0,height):\n",
    "    for j in range(0,width):\n",
    "        (b,g,r) = img[i,j]\n",
    "        b = b*1.5\n",
    "        g = g*1.3\n",
    "        if b > 255:\n",
    "            b =255\n",
    "        if g > 255:\n",
    "            g = 255\n",
    "        dst[i,j] = (b,g,r)\n",
    "cv2.imshow('dst',dst)\n",
    "cv2.waitKey(0)"
   ]
  },
  {
   "cell_type": "code",
   "execution_count": null,
   "metadata": {},
   "outputs": [],
   "source": [
    "#oil painting\n",
    "#1、彩色图片到灰度图片的转化\n",
    "#2、分割为若干个小块，统计这些小块中每个像素的灰度值\n",
    "#3、0-255的灰度值划分为几个等级，把2中的结果映射到范围内\n",
    "#4、找到小块中灰度等级最多的像素，并求取像素的均值，灰度段中像素等级的统计\n",
    "#5、用统计出的结果替换原来像素中的值，达到油画效果\n",
    "import cv2\n",
    "import numpy as np\n",
    "img = cv2.imread('thimg.jpg',1)\n",
    "cv2.imshow('src',img)\n",
    "imgInfo = img.shape\n",
    "height = imgInfo[0]\n",
    "width = imgInfo[1]\n",
    "gray = cv2.cvtColor(img,cv2.COLOR_BGR2GRAY)\n",
    "dst = np.zeros((height,width,3),np.uint8)\n",
    "for i in range(4,height-4):\n",
    "    for j in range(4,width-4):\n",
    "        array1 = np.zeros(8,np.uint8)\n",
    "        for m in range(-4,4):\n",
    "            for n in range(-4,4):\n",
    "                p1 = int(gray[i+m,j+n]/32)\n",
    "                array1[p1] = array1[p1] + 1 \n",
    "        currentMax = array1[0]\n",
    "        l = 0\n",
    "        for k in range(0,8):\n",
    "            if currentMax < array1[k]:\n",
    "                currentMax = array1[k]\n",
    "                l = k\n",
    "        for m in range(-4,4):\n",
    "            for n in range(-4,4):\n",
    "                if gray[i+m,j+n] >= (l*32) and gray[i+m, j+n] <= ((l+1)*32):\n",
    "                    (b,g,r) = img[i+m, j+n]\n",
    "        dst[i,j] = (b,g,r)\n",
    "cv2.imshow('dst',dst)\n",
    "cv2.waitKey(0)"
   ]
  },
  {
   "cell_type": "code",
   "execution_count": null,
   "metadata": {},
   "outputs": [],
   "source": []
  }
 ],
 "metadata": {
  "kernelspec": {
   "display_name": "Python 3",
   "language": "python",
   "name": "python3"
  },
  "language_info": {
   "codemirror_mode": {
    "name": "ipython",
    "version": 3
   },
   "file_extension": ".py",
   "mimetype": "text/x-python",
   "name": "python",
   "nbconvert_exporter": "python",
   "pygments_lexer": "ipython3",
   "version": "3.6.8"
  }
 },
 "nbformat": 4,
 "nbformat_minor": 2
}
