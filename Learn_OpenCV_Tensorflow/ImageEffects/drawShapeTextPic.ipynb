{
 "cells": [
  {
   "cell_type": "code",
   "execution_count": null,
   "metadata": {},
   "outputs": [],
   "source": [
    "#draw shape\n",
    "import cv2\n",
    "import numpy as np\n",
    "img = cv2.imread('thimg.jpg',1)\n",
    "newImgInfo = (500,500,3)\n",
    "dst = np.zeros(newImgInfo,np.uint8)\n",
    "#line\n",
    "#draw line 1 dst 2 begin 3 end 4 color 5 width  6 线条类型\n",
    "cv2.line(dst,(100,100),(400,400),(0,0,255))   \n",
    "cv2.line(dst,(100,200),(400,200),(0,255,255), 20)   \n",
    "cv2.line(dst,(100,300),(400,300),(0,255,0),20,cv2.LINE_AA)   \n",
    "\n",
    "cv2.line(dst,(200,150),(50,250),(20,100,255),20,cv2.LINE_AA)   \n",
    "cv2.line(dst,(50,250),(400,350),(20,100,255),20,cv2.LINE_AA)   \n",
    "cv2.line(dst,(400,350),(200,150),(20,100,255),20,cv2.LINE_AA)   \n",
    "\n",
    "cv2.imshow('dst',dst)\n",
    "cv2.waitKey(0)"
   ]
  },
  {
   "cell_type": "code",
   "execution_count": 2,
   "metadata": {
    "scrolled": false
   },
   "outputs": [
    {
     "name": "stdout",
     "output_type": "stream",
     "text": [
      "(5, 2)\n",
      "(5, 1, 2)\n"
     ]
    },
    {
     "ename": "TypeError",
     "evalue": "pts data type = 6 is not supported",
     "output_type": "error",
     "traceback": [
      "\u001b[0;31m---------------------------------------------------------------------------\u001b[0m",
      "\u001b[0;31mTypeError\u001b[0m                                 Traceback (most recent call last)",
      "\u001b[0;32m<ipython-input-2-e3f7dd6a7c91>\u001b[0m in \u001b[0;36m<module>\u001b[0;34m\u001b[0m\n\u001b[1;32m     16\u001b[0m \u001b[0mpoints\u001b[0m \u001b[0;34m=\u001b[0m \u001b[0mpoints\u001b[0m\u001b[0;34m.\u001b[0m\u001b[0mreshape\u001b[0m\u001b[0;34m(\u001b[0m\u001b[0;34m(\u001b[0m\u001b[0;34m-\u001b[0m\u001b[0;36m1\u001b[0m\u001b[0;34m,\u001b[0m\u001b[0;36m1\u001b[0m\u001b[0;34m,\u001b[0m\u001b[0;36m2\u001b[0m\u001b[0;34m)\u001b[0m\u001b[0;34m)\u001b[0m\u001b[0;34m\u001b[0m\u001b[0;34m\u001b[0m\u001b[0m\n\u001b[1;32m     17\u001b[0m \u001b[0mprint\u001b[0m\u001b[0;34m(\u001b[0m\u001b[0mpoints\u001b[0m\u001b[0;34m.\u001b[0m\u001b[0mshape\u001b[0m\u001b[0;34m)\u001b[0m\u001b[0;34m\u001b[0m\u001b[0;34m\u001b[0m\u001b[0m\n\u001b[0;32m---> 18\u001b[0;31m \u001b[0mcv2\u001b[0m\u001b[0;34m.\u001b[0m\u001b[0mpolylines\u001b[0m\u001b[0;34m(\u001b[0m\u001b[0mdst\u001b[0m\u001b[0;34m,\u001b[0m\u001b[0;34m[\u001b[0m\u001b[0mpoints\u001b[0m\u001b[0;34m]\u001b[0m\u001b[0;34m,\u001b[0m\u001b[0;32mTrue\u001b[0m\u001b[0;34m,\u001b[0m\u001b[0;34m(\u001b[0m\u001b[0;36m0\u001b[0m\u001b[0;34m,\u001b[0m\u001b[0;36m255\u001b[0m\u001b[0;34m,\u001b[0m\u001b[0;36m255\u001b[0m\u001b[0;34m)\u001b[0m\u001b[0;34m,\u001b[0m\u001b[0;36m1\u001b[0m\u001b[0;34m,\u001b[0m \u001b[0mcv2\u001b[0m\u001b[0;34m.\u001b[0m\u001b[0mLINE_4\u001b[0m\u001b[0;34m,\u001b[0m \u001b[0;36m1\u001b[0m\u001b[0;34m)\u001b[0m\u001b[0;34m\u001b[0m\u001b[0;34m\u001b[0m\u001b[0m\n\u001b[0m\u001b[1;32m     19\u001b[0m \u001b[0mcv2\u001b[0m\u001b[0;34m.\u001b[0m\u001b[0mimshow\u001b[0m\u001b[0;34m(\u001b[0m\u001b[0;34m'dst'\u001b[0m\u001b[0;34m,\u001b[0m \u001b[0mdst\u001b[0m\u001b[0;34m)\u001b[0m\u001b[0;34m\u001b[0m\u001b[0;34m\u001b[0m\u001b[0m\n\u001b[1;32m     20\u001b[0m \u001b[0mcv2\u001b[0m\u001b[0;34m.\u001b[0m\u001b[0mwaitKey\u001b[0m\u001b[0;34m(\u001b[0m\u001b[0;36m0\u001b[0m\u001b[0;34m)\u001b[0m\u001b[0;34m\u001b[0m\u001b[0;34m\u001b[0m\u001b[0m\n",
      "\u001b[0;31mTypeError\u001b[0m: pts data type = 6 is not supported"
     ]
    }
   ],
   "source": [
    "#draw  几何图形\n",
    "import cv2\n",
    "import numpy as np\n",
    "newImgInfo = (500,500,3)\n",
    "dst = np.zeros(newImgInfo,np.uint8)\n",
    "#1 dst 2 左上角 3 右下角 4 颜色  5 是否fill\n",
    "#cv2.rectangle(dst,(50,100),(200,300),(255,0,0),-1)  #fill\n",
    "cv2.rectangle(dst,(50,100),(200,300),(255,0,0),5)  #>0   line width\n",
    "#1 dst 2 圆心 3 半径\n",
    "cv2.circle(dst,(250,250),(50),(0,255,0),-1)\n",
    "#1 dst 2 圆心 3 轴 4 angle 5 begin 6 end 7 \n",
    "cv2.ellipse(dst,(256,256),(150,100),0,0,180,(255,255,0),-1)\n",
    "\n",
    "points = np.array([[150,50],[140,140],[200,170],[250,250],[150,50]],np.uint32) #,[170,100],[190,90],[100,70]\n",
    "print(points.shape)\n",
    "points = points.reshape((-1,1,2))\n",
    "print(points.shape)\n",
    "cv2.polylines(dst,[points],True,(0,255,255),1, cv2.LINE_4, 1)\n",
    "cv2.imshow('dst', dst)\n",
    "cv2.waitKey(0)"
   ]
  },
  {
   "cell_type": "code",
   "execution_count": null,
   "metadata": {},
   "outputs": [],
   "source": [
    "#text picture\n",
    "import cv2\n",
    "import numpy as np\n",
    "img = cv2.imread('thimg.jpg',1)\n",
    "font = cv2.FONT_HERSHEY_SIMPLEX\n",
    "cv2.rectangle(img,(200,100),(400,200),(0,255,0),3)\n",
    "#1 dst 2 text 3 坐标 4 5 字体大小 6 color 7 粗细  8 line type\n",
    "cv2.putText(img, 'this is a th', (100,200),font,1,(200,100,255), 2, cv2.LINE_AA)\n",
    "cv2.imshow('src', img)\n",
    "cv2.waitKey(0)"
   ]
  },
  {
   "cell_type": "code",
   "execution_count": null,
   "metadata": {},
   "outputs": [],
   "source": [
    "#picture\n",
    "import cv2\n",
    "import numpy as np\n",
    "img = cv2.imread('thimg.jpg',1)\n",
    "height = int(img.shape[0]*0.2)\n",
    "width = int(img.shape[1]*0.2)\n",
    "imgResize = cv2.resize(img,(width,height))\n",
    "for i in range(0,height):\n",
    "    for j in range(0,width):\n",
    "        img[i+200,j+350] = imgResize[i,j]\n",
    "\n",
    "cv2.imshow('src', img)\n",
    "cv2.waitKey(0)"
   ]
  },
  {
   "cell_type": "code",
   "execution_count": null,
   "metadata": {},
   "outputs": [],
   "source": []
  }
 ],
 "metadata": {
  "kernelspec": {
   "display_name": "Python 3",
   "language": "python",
   "name": "python3"
  }
 },
 "nbformat": 4,
 "nbformat_minor": 2
}
