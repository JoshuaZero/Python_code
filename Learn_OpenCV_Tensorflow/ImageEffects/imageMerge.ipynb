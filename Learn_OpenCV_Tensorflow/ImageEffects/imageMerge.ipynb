{
 "cells": [
  {
   "cell_type": "code",
   "execution_count": null,
   "metadata": {},
   "outputs": [],
   "source": [
    "#dst  = src1*a + src2*(1-a)\n",
    "#\n",
    "import cv2\n",
    "import numpy as np\n",
    "img0 = cv2.imread('thimg.jpg',1)\n",
    "img1 = cv2.imread('thimg2.jpg',1)\n",
    "imgInfo0 = img0.shape\n",
    "height = imgInfo0[0]\n",
    "width = imgInfo0[1]\n",
    "imgInfo1 = img1.shape\n",
    "#ROI\n",
    "roiH = int(height>>1)\n",
    "roiW = int(width>>1)\n",
    "img0ROI = img0[0:roiH,0:roiW]\n",
    "img1ROI = img1[0:roiH,0:roiW]\n",
    "#dst\n",
    "dst = np.zeros((roiH,roiW,3),np.uint8)\n",
    "dst = cv2.addWeighted(img0ROI,0.5,img1ROI,0.5,0)  #当前两个权重相加  1 src1 2 a 3 src2 4 1-a\n",
    "cv2.imshow('dst',dst)\n",
    "cv2.waitKey(0)"
   ]
  },
  {
   "cell_type": "code",
   "execution_count": null,
   "metadata": {},
   "outputs": [],
   "source": []
  }
 ],
 "metadata": {
  "kernelspec": {
   "display_name": "Python 3",
   "language": "python",
   "name": "python3"
  },
  "language_info": {
   "codemirror_mode": {
    "name": "ipython",
    "version": 3
   },
   "file_extension": ".py",
   "mimetype": "text/x-python",
   "name": "python",
   "nbconvert_exporter": "python",
   "pygments_lexer": "ipython3",
   "version": "3.6.8"
  }
 },
 "nbformat": 4,
 "nbformat_minor": 2
}
