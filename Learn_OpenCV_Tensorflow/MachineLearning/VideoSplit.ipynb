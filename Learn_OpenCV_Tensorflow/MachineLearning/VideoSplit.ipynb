{
 "cells": [
  {
   "cell_type": "code",
   "execution_count": 3,
   "metadata": {},
   "outputs": [
    {
     "name": "stdout",
     "output_type": "stream",
     "text": [
      "<built-in method isOpened of cv2.VideoCapture object at 0x7f7b0c8940f0>\n",
      "0.0 0 0\n",
      "image1jpg\n",
      "image2jpg\n",
      "image3jpg\n",
      "image4jpg\n",
      "image5jpg\n",
      "image6jpg\n",
      "image7jpg\n",
      "image8jpg\n",
      "image9jpg\n",
      "image10jpg\n",
      "end!\n"
     ]
    }
   ],
   "source": [
    "#视频分解图片\n",
    "# 1 load 2 info 3 parse  4 imshow imwrite\n",
    "import cv2\n",
    "\n",
    "cap = cv2.VideoCapture('Example.mp4')  #获取视频打开的句柄 1 filename\n",
    "isOpened = cap.isOpened #判断是否打开 \n",
    "print(isOpened)\n",
    "fps = cap.get(cv2.CAP_PROP_FPS)\n",
    "width = int(cap.get(cv2.CAP_PROP_FRAME_WIDTH))\n",
    "height = int(cap.get(cv2.CAP_PROP_FRAME_HEIGHT))\n",
    "print(fps,width,height)\n",
    "\n",
    "i = 0\n",
    "while(isOpened):\n",
    "    if i == 10:\n",
    "        break;\n",
    "    else:\n",
    "        i = i + 1\n",
    "    (flag,frame) = cap.read() #读取每一张 flag frame\n",
    "    fileName = 'image' + str(i) + 'jpg'\n",
    "    print(fileName)\n",
    "    if flag == True:\n",
    "        cv2.imwrite(fileName, framge, [cv2.IMWRITE_JPEG_QUALITY,100])\n",
    "print('end!')"
   ]
  },
  {
   "cell_type": "code",
   "execution_count": null,
   "metadata": {},
   "outputs": [],
   "source": []
  }
 ],
 "metadata": {
  "kernelspec": {
   "display_name": "Python 3",
   "language": "python",
   "name": "python3"
  },
  "language_info": {
   "codemirror_mode": {
    "name": "ipython",
    "version": 3
   },
   "file_extension": ".py",
   "mimetype": "text/x-python",
   "name": "python",
   "nbconvert_exporter": "python",
   "pygments_lexer": "ipython3",
   "version": "3.6.8"
  }
 },
 "nbformat": 4,
 "nbformat_minor": 2
}
