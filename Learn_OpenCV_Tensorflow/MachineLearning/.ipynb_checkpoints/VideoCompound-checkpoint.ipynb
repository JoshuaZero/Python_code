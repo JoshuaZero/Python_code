{
 "cells": [
  {
   "cell_type": "code",
   "execution_count": 1,
   "metadata": {},
   "outputs": [],
   "source": [
    "import cv2\n",
    "\n",
    "img = cv2.imread('timg.jpeg')\n",
    "imgInfo = img.shape\n",
    "size = (imgInfo[1],imgInfo[0])\n",
    "print(size)\n",
    "videoWrite = cv2.VideoWriter('2.mp4',-1, 5, size) #写入对象的创建  1 file name  2 编码器  3 帧率  4 size\n",
    "for i in range(1,11):\n",
    "    fileName = 'image' + str(i) + '.jpg'\n",
    "    img = cv2.imread(fileName)\n",
    "    videoWrite.Write(img)  #写入方法 1 jpg data 2 \n",
    "print('end!')"
   ]
  },
  {
   "cell_type": "code",
   "execution_count": null,
   "metadata": {},
   "outputs": [],
   "source": []
  }
 ],
 "metadata": {
  "kernelspec": {
   "display_name": "Python 3",
   "language": "python",
   "name": "python3"
  },
  "language_info": {
   "codemirror_mode": {
    "name": "ipython",
    "version": 3
   },
   "file_extension": ".py",
   "mimetype": "text/x-python",
   "name": "python",
   "nbconvert_exporter": "python",
   "pygments_lexer": "ipython3",
   "version": "3.6.8"
  }
 },
 "nbformat": 4,
 "nbformat_minor": 2
}
