{
 "cells": [
  {
   "cell_type": "code",
   "execution_count": null,
   "metadata": {},
   "outputs": [],
   "source": [
    "# 1 样本如何制作 2 获取机器学习的特征 3 利用分类器对特征进行分类 4 预测和检验\n",
    "# Haar + adaboost -> face\n",
    "# haar 模版  adaboost 三级（强分类器 弱分类器 node节点）\n",
    "# hog  模版  SVM向量机 实现小狮子识别\n"
   ]
  }
 ],
 "metadata": {
  "kernelspec": {
   "display_name": "Python 3",
   "language": "python",
   "name": "python3"
  },
  "language_info": {
   "codemirror_mode": {
    "name": "ipython",
    "version": 3
   },
   "file_extension": ".py",
   "mimetype": "text/x-python",
   "name": "python",
   "nbconvert_exporter": "python",
   "pygments_lexer": "ipython3",
   "version": "3.6.8"
  }
 },
 "nbformat": 4,
 "nbformat_minor": 2
}
