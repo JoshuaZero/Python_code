{
 "cells": [
  {
   "cell_type": "code",
   "execution_count": 3,
   "metadata": {},
   "outputs": [
    {
     "name": "stdout",
     "output_type": "stream",
     "text": [
      "[[167.  55.]\n",
      " [162.  57.]]\n",
      "0.0 [[0.]\n",
      " [1.]]\n"
     ]
    }
   ],
   "source": [
    "#svm核：line\n",
    "#身高体重 训练 预测\n",
    "import cv2\n",
    "import numpy as np\n",
    "import matplotlib.pyplot as plt\n",
    "# 1  准备data 2 \n",
    "rand1 = np.array([[155,48],[159,50],[164,53],[168,56],[172,60]])\n",
    "rand2 = np.array([[152,53],[156,55],[160,56],[172,64],[176,65]])\n",
    "\n",
    "#2 label 0 表示女生  1 表示男生\n",
    "label = np.array([[0],[0],[0],[0],[0],[1],[1],[1],[1],[1]])\n",
    "\n",
    "#data\n",
    "data = np.vstack((rand1,rand2))\n",
    "data = np.array(data,dtype='float32')\n",
    "\n",
    "#svm 所有数据必须要有标签label 标签是描述当前一级数据的唯一属性\n",
    "#监督学习——在学习过程中每学习一组数据，就要告诉其学习的对还是不对\n",
    "#0 称为负样本 1 正样本\n",
    "#进行预测时需要将正负样本的数据装在一起\n",
    "#label标签也需要将正负样本都打上标签\n",
    "\n",
    "#训练和预测\n",
    "svm = cv2.ml.SVM_create() #ml描述机器学习模块，SVM_create创建\n",
    "#属性设置，若要搞清楚每个参数，就需要分析svm的公式\n",
    "svm.setType(cv2.ml.SVM_C_SVC) #svm type\n",
    "svm.setKernel(cv2.ml.SVM_LINEAR) #line\n",
    "svm.setC(0.01)\n",
    "\n",
    "#训练\n",
    "result = svm.train(data,cv2.ml.ROW_SAMPLE,label)\n",
    "#预测\n",
    "pt_data = np.vstack([[167,55],[162,57]]) # 0 女生  1 男生 \n",
    "pt_data = np.array(pt_data,dtype='float32')\n",
    "print(pt_data)\n",
    "(par1,par2) = svm.predict(pt_data)\n",
    "print(par1,par2)\n"
   ]
  },
  {
   "cell_type": "code",
   "execution_count": null,
   "metadata": {},
   "outputs": [],
   "source": []
  }
 ],
 "metadata": {
  "kernelspec": {
   "display_name": "Python 3",
   "language": "python",
   "name": "python3"
  },
  "language_info": {
   "codemirror_mode": {
    "name": "ipython",
    "version": 3
   },
   "file_extension": ".py",
   "mimetype": "text/x-python",
   "name": "python",
   "nbconvert_exporter": "python",
   "pygments_lexer": "ipython3",
   "version": "3.6.8"
  }
 },
 "nbformat": 4,
 "nbformat_minor": 2
}
