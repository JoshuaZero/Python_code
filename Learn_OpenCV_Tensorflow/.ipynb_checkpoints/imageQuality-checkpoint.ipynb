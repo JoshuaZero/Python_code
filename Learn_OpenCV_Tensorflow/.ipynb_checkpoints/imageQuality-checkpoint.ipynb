{
 "cells": [
  {
   "cell_type": "code",
   "execution_count": 1,
   "metadata": {},
   "outputs": [
    {
     "data": {
      "text/plain": [
       "True"
      ]
     },
     "execution_count": 1,
     "metadata": {},
     "output_type": "execute_result"
    }
   ],
   "source": [
    "#\n",
    "import cv2\n",
    "img = cv2.imread('dbimage.jpg', 1)\n",
    "cv2.imwrite('imageTest.jpg', img, [cv2.IMWRITE_JPEG_QUALITY,50])\n",
    "cv2.imwrite('imageTest1.jpg', img, [cv2.IMWRITE_JPEG_QUALITY,0])\n",
    "#1M  压缩10倍  100k 还可以保持图片质量  压缩100倍， 无法保证图片质量  有损压缩\n",
    "#jpg 0 压缩比高，损失严重 0-100"
   ]
  },
  {
   "cell_type": "code",
   "execution_count": 4,
   "metadata": {},
   "outputs": [
    {
     "data": {
      "text/plain": [
       "True"
      ]
     },
     "execution_count": 4,
     "metadata": {},
     "output_type": "execute_result"
    }
   ],
   "source": [
    "#PNG 1 无损  2透明度属性\n",
    "import cv2\n",
    "img = cv2.imread('dbimage.jpg', 1)\n",
    "cv2.imwrite('imageTest.png', img, [cv2.IMWRITE_PNG_COMPRESSION,0])\n",
    "cv2.imwrite('imageTest1.png', img, [cv2.IMWRITE_PNG_COMPRESSION,9])\n",
    "#png 0 压缩比低 压缩范围0-9"
   ]
  },
  {
   "cell_type": "code",
   "execution_count": null,
   "metadata": {},
   "outputs": [],
   "source": []
  }
 ],
 "metadata": {
  "kernelspec": {
   "display_name": "Python 3",
   "language": "python",
   "name": "python3"
  },
  "language_info": {
   "codemirror_mode": {
    "name": "ipython",
    "version": 3
   },
   "file_extension": ".py",
   "mimetype": "text/x-python",
   "name": "python",
   "nbconvert_exporter": "python",
   "pygments_lexer": "ipython3",
   "version": "3.6.8"
  }
 },
 "nbformat": 4,
 "nbformat_minor": 2
}
