{
 "cells": [
  {
   "cell_type": "code",
   "execution_count": null,
   "metadata": {},
   "outputs": [],
   "source": [
    "#1. 引入opencv 2.调用相应的API 3.程序的暂停\n",
    "import cv2\n",
    "#1、完成文件的读取  2、封装格式解析  3、数据解码  4、数据加载\n",
    "img = cv2.imread('dbimage.jpg', 1)  #read image 1:name  2: 0-gray 1-color \n",
    "cv2.imshow('image', img)    #1: window name 2:img\n",
    "#图片格式：jpg png 封装格式 ， 分为两部分 文件头 和 文件数据， 不同的文件这两部分不同 \n",
    "#这里的文件数据—并不是指文件数据，而是图片进行压缩编码后的数据\n",
    "#大部分的数据头就是描述了图片的压缩编码信息及附加信息，解码器可以根据这些信息将图片还原成原始数据\n",
    "cv2.waitKey(0)    #图片暂停"
   ]
  },
  {
   "cell_type": "code",
   "execution_count": null,
   "metadata": {},
   "outputs": [],
   "source": [
    "#图片的写入功能\n",
    "import cv2\n",
    "cv2."
   ]
  }
 ],
 "metadata": {
  "kernelspec": {
   "display_name": "Python 3",
   "language": "python",
   "name": "python3"
  },
  "language_info": {
   "codemirror_mode": {
    "name": "ipython",
    "version": 3
   },
   "file_extension": ".py",
   "mimetype": "text/x-python",
   "name": "python",
   "nbconvert_exporter": "python",
   "pygments_lexer": "ipython3",
   "version": "3.6.8"
  }
 },
 "nbformat": 4,
 "nbformat_minor": 2
}
